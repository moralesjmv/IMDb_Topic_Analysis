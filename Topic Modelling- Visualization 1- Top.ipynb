{
 "cells": [
  {
   "cell_type": "code",
   "execution_count": 1,
   "metadata": {},
   "outputs": [
    {
     "name": "stderr",
     "output_type": "stream",
     "text": [
      "c:\\anaconda3\\lib\\site-packages\\gensim\\utils.py:1197: UserWarning: detected Windows; aliasing chunkize to chunkize_serial\n",
      "  warnings.warn(\"detected Windows; aliasing chunkize to chunkize_serial\")\n"
     ]
    },
    {
     "data": {
      "text/html": [
       "\n",
       "    <div class=\"bk-root\">\n",
       "        <a href=\"https://bokeh.pydata.org\" target=\"_blank\" class=\"bk-logo bk-logo-small bk-logo-notebook\"></a>\n",
       "        <span id=\"601a4af7-19b1-4b4c-9ce8-b487d5f9356c\">Loading BokehJS ...</span>\n",
       "    </div>"
      ]
     },
     "metadata": {},
     "output_type": "display_data"
    },
    {
     "data": {
      "application/javascript": [
       "\n",
       "(function(root) {\n",
       "  function now() {\n",
       "    return new Date();\n",
       "  }\n",
       "\n",
       "  var force = true;\n",
       "\n",
       "  if (typeof (root._bokeh_onload_callbacks) === \"undefined\" || force === true) {\n",
       "    root._bokeh_onload_callbacks = [];\n",
       "    root._bokeh_is_loading = undefined;\n",
       "  }\n",
       "\n",
       "\n",
       "  \n",
       "  if (typeof (root._bokeh_timeout) === \"undefined\" || force === true) {\n",
       "    root._bokeh_timeout = Date.now() + 5000;\n",
       "    root._bokeh_failed_load = false;\n",
       "  }\n",
       "\n",
       "  var NB_LOAD_WARNING = {'data': {'text/html':\n",
       "     \"<div style='background-color: #fdd'>\\n\"+\n",
       "     \"<p>\\n\"+\n",
       "     \"BokehJS does not appear to have successfully loaded. If loading BokehJS from CDN, this \\n\"+\n",
       "     \"may be due to a slow or bad network connection. Possible fixes:\\n\"+\n",
       "     \"</p>\\n\"+\n",
       "     \"<ul>\\n\"+\n",
       "     \"<li>re-rerun `output_notebook()` to attempt to load from CDN again, or</li>\\n\"+\n",
       "     \"<li>use INLINE resources instead, as so:</li>\\n\"+\n",
       "     \"</ul>\\n\"+\n",
       "     \"<code>\\n\"+\n",
       "     \"from bokeh.resources import INLINE\\n\"+\n",
       "     \"output_notebook(resources=INLINE)\\n\"+\n",
       "     \"</code>\\n\"+\n",
       "     \"</div>\"}};\n",
       "\n",
       "  function display_loaded() {\n",
       "    if (root.Bokeh !== undefined) {\n",
       "      var el = document.getElementById(\"601a4af7-19b1-4b4c-9ce8-b487d5f9356c\");\n",
       "      if (el != null) {\n",
       "        el.textContent = \"BokehJS \" + Bokeh.version + \" successfully loaded.\";\n",
       "      }\n",
       "    } else if (Date.now() < root._bokeh_timeout) {\n",
       "      setTimeout(display_loaded, 100)\n",
       "    }\n",
       "  }\n",
       "\n",
       "\n",
       "  function run_callbacks() {\n",
       "    try {\n",
       "      root._bokeh_onload_callbacks.forEach(function(callback) { callback() });\n",
       "    }\n",
       "    finally {\n",
       "      delete root._bokeh_onload_callbacks\n",
       "    }\n",
       "    console.info(\"Bokeh: all callbacks have finished\");\n",
       "  }\n",
       "\n",
       "  function load_libs(js_urls, callback) {\n",
       "    root._bokeh_onload_callbacks.push(callback);\n",
       "    if (root._bokeh_is_loading > 0) {\n",
       "      console.log(\"Bokeh: BokehJS is being loaded, scheduling callback at\", now());\n",
       "      return null;\n",
       "    }\n",
       "    if (js_urls == null || js_urls.length === 0) {\n",
       "      run_callbacks();\n",
       "      return null;\n",
       "    }\n",
       "    console.log(\"Bokeh: BokehJS not loaded, scheduling load and callback at\", now());\n",
       "    root._bokeh_is_loading = js_urls.length;\n",
       "    for (var i = 0; i < js_urls.length; i++) {\n",
       "      var url = js_urls[i];\n",
       "      var s = document.createElement('script');\n",
       "      s.src = url;\n",
       "      s.async = false;\n",
       "      s.onreadystatechange = s.onload = function() {\n",
       "        root._bokeh_is_loading--;\n",
       "        if (root._bokeh_is_loading === 0) {\n",
       "          console.log(\"Bokeh: all BokehJS libraries loaded\");\n",
       "          run_callbacks()\n",
       "        }\n",
       "      };\n",
       "      s.onerror = function() {\n",
       "        console.warn(\"failed to load library \" + url);\n",
       "      };\n",
       "      console.log(\"Bokeh: injecting script tag for BokehJS library: \", url);\n",
       "      document.getElementsByTagName(\"head\")[0].appendChild(s);\n",
       "    }\n",
       "  };var element = document.getElementById(\"601a4af7-19b1-4b4c-9ce8-b487d5f9356c\");\n",
       "  if (element == null) {\n",
       "    console.log(\"Bokeh: ERROR: autoload.js configured with elementid '601a4af7-19b1-4b4c-9ce8-b487d5f9356c' but no matching script tag was found. \")\n",
       "    return false;\n",
       "  }\n",
       "\n",
       "  var js_urls = [\"https://cdn.pydata.org/bokeh/release/bokeh-0.12.7.min.js\", \"https://cdn.pydata.org/bokeh/release/bokeh-widgets-0.12.7.min.js\", \"https://cdn.pydata.org/bokeh/release/bokeh-tables-0.12.7.min.js\", \"https://cdn.pydata.org/bokeh/release/bokeh-gl-0.12.7.min.js\"];\n",
       "\n",
       "  var inline_js = [\n",
       "    function(Bokeh) {\n",
       "      Bokeh.set_log_level(\"info\");\n",
       "    },\n",
       "    \n",
       "    function(Bokeh) {\n",
       "      \n",
       "    },\n",
       "    \n",
       "    function(Bokeh) {\n",
       "      \n",
       "      document.getElementById(\"601a4af7-19b1-4b4c-9ce8-b487d5f9356c\").textContent = \"BokehJS is loading...\";\n",
       "    },\n",
       "    function(Bokeh) {\n",
       "      console.log(\"Bokeh: injecting CSS: https://cdn.pydata.org/bokeh/release/bokeh-0.12.7.min.css\");\n",
       "      Bokeh.embed.inject_css(\"https://cdn.pydata.org/bokeh/release/bokeh-0.12.7.min.css\");\n",
       "      console.log(\"Bokeh: injecting CSS: https://cdn.pydata.org/bokeh/release/bokeh-widgets-0.12.7.min.css\");\n",
       "      Bokeh.embed.inject_css(\"https://cdn.pydata.org/bokeh/release/bokeh-widgets-0.12.7.min.css\");\n",
       "      console.log(\"Bokeh: injecting CSS: https://cdn.pydata.org/bokeh/release/bokeh-tables-0.12.7.min.css\");\n",
       "      Bokeh.embed.inject_css(\"https://cdn.pydata.org/bokeh/release/bokeh-tables-0.12.7.min.css\");\n",
       "    }\n",
       "  ];\n",
       "\n",
       "  function run_inline_js() {\n",
       "    \n",
       "    if ((root.Bokeh !== undefined) || (force === true)) {\n",
       "      for (var i = 0; i < inline_js.length; i++) {\n",
       "        inline_js[i].call(root, root.Bokeh);\n",
       "      }if (force === true) {\n",
       "        display_loaded();\n",
       "      }} else if (Date.now() < root._bokeh_timeout) {\n",
       "      setTimeout(run_inline_js, 100);\n",
       "    } else if (!root._bokeh_failed_load) {\n",
       "      console.log(\"Bokeh: BokehJS failed to load within specified timeout.\");\n",
       "      root._bokeh_failed_load = true;\n",
       "    } else if (force !== true) {\n",
       "      var cell = $(document.getElementById(\"601a4af7-19b1-4b4c-9ce8-b487d5f9356c\")).parents('.cell').data().cell;\n",
       "      cell.output_area.append_execute_result(NB_LOAD_WARNING)\n",
       "    }\n",
       "\n",
       "  }\n",
       "\n",
       "  if (root._bokeh_is_loading === 0) {\n",
       "    console.log(\"Bokeh: BokehJS loaded, going straight to plotting\");\n",
       "    run_inline_js();\n",
       "  } else {\n",
       "    load_libs(js_urls, function() {\n",
       "      console.log(\"Bokeh: BokehJS plotting callback run at\", now());\n",
       "      run_inline_js();\n",
       "    });\n",
       "  }\n",
       "}(window));"
      ]
     },
     "metadata": {},
     "output_type": "display_data"
    }
   ],
   "source": [
    "import pandas as pd\n",
    "import numpy as np\n",
    "# LDA, tSNE\n",
    "from sklearn.manifold import TSNE\n",
    "from gensim.models.ldamodel import LdaModel\n",
    "# NLTK\n",
    "import nltk\n",
    "from nltk.tokenize import RegexpTokenizer\n",
    "from nltk.stem.snowball import SnowballStemmer\n",
    "from nltk.corpus import stopwords\n",
    "import re\n",
    "# Visualization\n",
    "import matplotlib.pyplot as plt\n",
    "import matplotlib.patches as mpatches\n",
    "import matplotlib\n",
    "%matplotlib inline\n",
    "import seaborn as sns\n",
    "# Bokeh\n",
    "from bokeh.io import output_notebook\n",
    "from bokeh.plotting import figure, show\n",
    "from bokeh.models import HoverTool, CustomJS, ColumnDataSource, Slider\n",
    "from bokeh.layouts import column\n",
    "from bokeh.palettes import all_palettes\n",
    "output_notebook()"
   ]
  },
  {
   "cell_type": "code",
   "execution_count": 2,
   "metadata": {
    "collapsed": true
   },
   "outputs": [],
   "source": [
    "#data to "
   ]
  },
  {
   "cell_type": "code",
   "execution_count": 3,
   "metadata": {
    "collapsed": true
   },
   "outputs": [],
   "source": [
    "with open('movie_summaries_bottom_250.txt', 'r') as myfile:\n",
    "    summary=myfile.readlines()\n",
    "with open('movie_titles_bottom_250.txt', 'r') as myfile:\n",
    "    title=myfile.readlines()"
   ]
  },
  {
   "cell_type": "code",
   "execution_count": 4,
   "metadata": {
    "collapsed": true
   },
   "outputs": [],
   "source": [
    "import string\n",
    "def strip_proppers(text):\n",
    "    # first tokenize by sentence, then by word to ensure that punctuation is caught as it's own token\n",
    "    tokens = [word for sent in nltk.sent_tokenize(text) for word in nltk.word_tokenize(sent) if word.islower()]\n",
    "    return \"\".join([\" \"+i if not i.startswith(\"'\") and i not in string.punctuation else i for i in tokens]).strip()\n",
    "preprocess = [strip_proppers(doc) for doc in summary]\n"
   ]
  },
  {
   "cell_type": "code",
   "execution_count": 5,
   "metadata": {
    "collapsed": true
   },
   "outputs": [],
   "source": [
    "df = pd.DataFrame(columns=['Title','Year','Summary'])\n",
    "se = pd.Series(preprocess)\n",
    "ti = pd.Series(title)\n",
    "df['Summary'] = se.values\n",
    "df['Title'] = ti.values"
   ]
  },
  {
   "cell_type": "code",
   "execution_count": 6,
   "metadata": {},
   "outputs": [
    {
     "name": "stdout",
     "output_type": "stream",
     "text": [
      "unlocks the never-before-seen secret world inside your smartphone within the messaging app is a bustling city where all your favorite emojis live hoping to be selected by the phone\\ user this world each emoji has only one facial expression except for an exuberant emoji who was born without a filter and is bursting with multiple expressions to become normal like the other emojis enlists the help of his handy best friend and the notorious code breaker emoji they embark on an epic app-venture throu\n"
     ]
    }
   ],
   "source": [
    "# Removing numerals:\n",
    "df['Summary_tokens'] = df.Summary.map(lambda x: re.sub(r'\\d+', '', x))\n",
    "# Lower case:\n",
    "df['Summary_tokens'] = df.Summary.map(lambda x: x.lower())\n",
    "print(df['Summary_tokens'][0][:500])\n",
    "df.to_csv('Combine_bottom.csv', encoding= 'utf-8')"
   ]
  },
  {
   "cell_type": "code",
   "execution_count": 7,
   "metadata": {},
   "outputs": [
    {
     "name": "stdout",
     "output_type": "stream",
     "text": [
      "['unlocks', 'the', 'never', 'before', 'seen', 'secret', 'world', 'inside', 'your', 'smartphone', 'within', 'the', 'messaging', 'app', 'is', 'a', 'bustling', 'city', 'where', 'all', 'your', 'favorite', 'emojis', 'live', 'hoping']\n"
     ]
    }
   ],
   "source": [
    "df['Summary_tokens'] = df.Summary_tokens.map(lambda x: RegexpTokenizer(r'\\w+').tokenize(x))\n",
    "print(df['Summary_tokens'][0][:25])"
   ]
  },
  {
   "cell_type": "code",
   "execution_count": 8,
   "metadata": {},
   "outputs": [
    {
     "name": "stdout",
     "output_type": "stream",
     "text": [
      "['unlock', 'the', 'never', 'befor', 'seen', 'secret', 'world', 'insid', 'your', 'smartphon', 'within', 'the', 'messag', 'app', 'is', 'a', 'bustl', 'citi', 'where', 'all', 'your', 'favorit', 'emoji', 'live', 'hope']\n"
     ]
    }
   ],
   "source": [
    "snowball = SnowballStemmer(\"english\")  \n",
    "df['Summary_tokens'] = df.Summary_tokens.map(lambda x: [snowball.stem(token) for token in x])\n",
    "print(df['Summary_tokens'][0][:25])"
   ]
  },
  {
   "cell_type": "code",
   "execution_count": 9,
   "metadata": {},
   "outputs": [
    {
     "name": "stdout",
     "output_type": "stream",
     "text": [
      "['unlock', 'never', 'befor', 'seen', 'secret', 'world', 'insid', 'smartphon', 'within', 'messag', 'app', 'bustl', 'citi', 'favorit', 'emoji', 'live', 'hope', 'select', 'phone', 'user', 'world', 'emoji', 'onli', 'one', 'facial']\n"
     ]
    }
   ],
   "source": [
    "stop_en = stopwords.words('english')\n",
    "df['Summary_tokens'] = df.Summary_tokens.map(lambda x: [t for t in x if t not in stop_en]) \n",
    "print(df['Summary_tokens'][0][:25])"
   ]
  },
  {
   "cell_type": "code",
   "execution_count": 10,
   "metadata": {},
   "outputs": [
    {
     "name": "stdout",
     "output_type": "stream",
     "text": [
      "['unlock', 'never', 'befor', 'seen', 'secret', 'world', 'insid', 'smartphon', 'within', 'messag', 'app', 'bustl', 'citi', 'favorit', 'emoji', 'live', 'hope', 'select', 'phone', 'user', 'world', 'emoji', 'onli', 'one', 'facial']\n"
     ]
    }
   ],
   "source": [
    "df['Summary_tokens'] = df.Summary_tokens.map(lambda x: [t for t in x if len(t) > 1])\n",
    "print(df['Summary_tokens'][0][:25])"
   ]
  },
  {
   "cell_type": "code",
   "execution_count": 11,
   "metadata": {
    "collapsed": true
   },
   "outputs": [],
   "source": [
    "from gensim import corpora, models\n",
    "np.random.seed(2017)\n",
    "texts = df['Summary_tokens'].values\n",
    "dictionary = corpora.Dictionary(texts)\n",
    "corpus = [dictionary.doc2bow(text) for text in texts]\n",
    "ldamodel = models.ldamodel.LdaModel(corpus, id2word=dictionary, \n",
    "                                    num_topics=8, passes=5, minimum_probability=0)"
   ]
  },
  {
   "cell_type": "code",
   "execution_count": 12,
   "metadata": {
    "collapsed": true
   },
   "outputs": [],
   "source": [
    "hm = np.array([[y for (x,y) in ldamodel[corpus[i]]] for i in range(len(corpus))])\n"
   ]
  },
  {
   "cell_type": "code",
   "execution_count": 15,
   "metadata": {
    "collapsed": true
   },
   "outputs": [],
   "source": [
    "tsne = TSNE(random_state=2017, perplexity=30)\n",
    "tsne_embedding = tsne.fit_transform(hm)\n",
    "tsne_embedding = pd.DataFrame(tsne_embedding, columns=['x','y'])\n",
    "tsne_embedding['hue'] = hm.argmax(axis=1)\n",
    "from bokeh.models import HoverTool, CustomJS, ColumnDataSource, Slider\n"
   ]
  },
  {
   "cell_type": "code",
   "execution_count": 18,
   "metadata": {
    "collapsed": true
   },
   "outputs": [],
   "source": [
    "source = ColumnDataSource(\n",
    "        data=dict(\n",
    "            x = tsne_embedding.x,\n",
    "            y = tsne_embedding.y,\n",
    "            colors = [all_palettes['Set1'][8][i] for i in tsne_embedding.hue],\n",
    "            title = df.Title,\n",
    "\n",
    "            alpha = [0.9] * tsne_embedding.shape[0],\n",
    "            size = [7] * tsne_embedding.shape[0]\n",
    "        )\n",
    "    )\n",
    "hover_tsne = HoverTool(names=[\"df\"], tooltips=\"\"\"\n",
    "    <div style=\"margin: 10\">\n",
    "        <div style=\"margin: 0 auto; width:300px;\">\n",
    "            <span style=\"font-size: 12px; font-weight: bold;\">Title:</span>\n",
    "            <span style=\"font-size: 12px\">@title</span>\n",
    "\n",
    "        </div>\n",
    "    </div>\n",
    "    \"\"\")\n",
    "tools_tsne = [hover_tsne, 'pan', 'wheel_zoom', 'reset']\n",
    "plot_tsne = figure(plot_width=1000, plot_height=500, tools=tools_tsne, title='Papers')\n",
    "plot_tsne.circle('x', 'y', size='size', fill_color='colors', \n",
    "                 alpha='alpha', line_alpha=0, line_width=0.01, source=source, name=\"df\")\n",
    "\n",
    "callback = CustomJS(args=dict(source=source), code=\"\"\"\n",
    "    var data = source.data;\n",
    "    var f = cb_obj.value\n",
    "    x = data['x']\n",
    "    y = data['y']\n",
    "    colors = data['colors']\n",
    "    alpha = data['alpha']\n",
    "    title = data['Title']\n",
    "    size = data['size']\n",
    "\n",
    "    source.trigger('change');\n",
    "\"\"\")\n",
    "\n",
    "\n",
    "\n",
    "layout = column(plot_tsne)"
   ]
  },
  {
   "cell_type": "code",
   "execution_count": 19,
   "metadata": {},
   "outputs": [
    {
     "data": {
      "text/html": [
       "\n",
       "\n",
       "    <div class=\"bk-root\">\n",
       "        <div class=\"bk-plotdiv\" id=\"54c9e602-101a-4f33-aa40-ca4c2c446274\"></div>\n",
       "    </div>\n",
       "<script type=\"text/javascript\">\n",
       "  \n",
       "  (function(root) {\n",
       "    function now() {\n",
       "      return new Date();\n",
       "    }\n",
       "  \n",
       "    var force = false;\n",
       "  \n",
       "    if (typeof (root._bokeh_onload_callbacks) === \"undefined\" || force === true) {\n",
       "      root._bokeh_onload_callbacks = [];\n",
       "      root._bokeh_is_loading = undefined;\n",
       "    }\n",
       "  \n",
       "  \n",
       "    \n",
       "    if (typeof (root._bokeh_timeout) === \"undefined\" || force === true) {\n",
       "      root._bokeh_timeout = Date.now() + 0;\n",
       "      root._bokeh_failed_load = false;\n",
       "    }\n",
       "  \n",
       "    var NB_LOAD_WARNING = {'data': {'text/html':\n",
       "       \"<div style='background-color: #fdd'>\\n\"+\n",
       "       \"<p>\\n\"+\n",
       "       \"BokehJS does not appear to have successfully loaded. If loading BokehJS from CDN, this \\n\"+\n",
       "       \"may be due to a slow or bad network connection. Possible fixes:\\n\"+\n",
       "       \"</p>\\n\"+\n",
       "       \"<ul>\\n\"+\n",
       "       \"<li>re-rerun `output_notebook()` to attempt to load from CDN again, or</li>\\n\"+\n",
       "       \"<li>use INLINE resources instead, as so:</li>\\n\"+\n",
       "       \"</ul>\\n\"+\n",
       "       \"<code>\\n\"+\n",
       "       \"from bokeh.resources import INLINE\\n\"+\n",
       "       \"output_notebook(resources=INLINE)\\n\"+\n",
       "       \"</code>\\n\"+\n",
       "       \"</div>\"}};\n",
       "  \n",
       "    function display_loaded() {\n",
       "      if (root.Bokeh !== undefined) {\n",
       "        var el = document.getElementById(\"54c9e602-101a-4f33-aa40-ca4c2c446274\");\n",
       "        if (el != null) {\n",
       "          el.textContent = \"BokehJS \" + Bokeh.version + \" successfully loaded.\";\n",
       "        }\n",
       "      } else if (Date.now() < root._bokeh_timeout) {\n",
       "        setTimeout(display_loaded, 100)\n",
       "      }\n",
       "    }\n",
       "  \n",
       "  \n",
       "    function run_callbacks() {\n",
       "      try {\n",
       "        root._bokeh_onload_callbacks.forEach(function(callback) { callback() });\n",
       "      }\n",
       "      finally {\n",
       "        delete root._bokeh_onload_callbacks\n",
       "      }\n",
       "      console.info(\"Bokeh: all callbacks have finished\");\n",
       "    }\n",
       "  \n",
       "    function load_libs(js_urls, callback) {\n",
       "      root._bokeh_onload_callbacks.push(callback);\n",
       "      if (root._bokeh_is_loading > 0) {\n",
       "        console.log(\"Bokeh: BokehJS is being loaded, scheduling callback at\", now());\n",
       "        return null;\n",
       "      }\n",
       "      if (js_urls == null || js_urls.length === 0) {\n",
       "        run_callbacks();\n",
       "        return null;\n",
       "      }\n",
       "      console.log(\"Bokeh: BokehJS not loaded, scheduling load and callback at\", now());\n",
       "      root._bokeh_is_loading = js_urls.length;\n",
       "      for (var i = 0; i < js_urls.length; i++) {\n",
       "        var url = js_urls[i];\n",
       "        var s = document.createElement('script');\n",
       "        s.src = url;\n",
       "        s.async = false;\n",
       "        s.onreadystatechange = s.onload = function() {\n",
       "          root._bokeh_is_loading--;\n",
       "          if (root._bokeh_is_loading === 0) {\n",
       "            console.log(\"Bokeh: all BokehJS libraries loaded\");\n",
       "            run_callbacks()\n",
       "          }\n",
       "        };\n",
       "        s.onerror = function() {\n",
       "          console.warn(\"failed to load library \" + url);\n",
       "        };\n",
       "        console.log(\"Bokeh: injecting script tag for BokehJS library: \", url);\n",
       "        document.getElementsByTagName(\"head\")[0].appendChild(s);\n",
       "      }\n",
       "    };var element = document.getElementById(\"54c9e602-101a-4f33-aa40-ca4c2c446274\");\n",
       "    if (element == null) {\n",
       "      console.log(\"Bokeh: ERROR: autoload.js configured with elementid '54c9e602-101a-4f33-aa40-ca4c2c446274' but no matching script tag was found. \")\n",
       "      return false;\n",
       "    }\n",
       "  \n",
       "    var js_urls = [];\n",
       "  \n",
       "    var inline_js = [\n",
       "      function(Bokeh) {\n",
       "        (function() {\n",
       "          var fn = function() {\n",
       "            var docs_json = {\"c4dd0ba0-7a17-4be0-9346-cd4259cc89d6\":{\"roots\":{\"references\":[{\"attributes\":{\"fill_alpha\":{\"field\":\"alpha\"},\"fill_color\":{\"field\":\"colors\"},\"line_alpha\":{\"value\":0},\"line_color\":{\"value\":\"#1f77b4\"},\"line_width\":{\"value\":0.01},\"size\":{\"field\":\"size\",\"units\":\"screen\"},\"x\":{\"field\":\"x\"},\"y\":{\"field\":\"y\"}},\"id\":\"3fb47e29-2261-404d-aa53-875400aadb08\",\"type\":\"Circle\"},{\"attributes\":{},\"id\":\"f8294544-29d9-4e57-8692-fb9803001cd9\",\"type\":\"BasicTickFormatter\"},{\"attributes\":{\"plot\":null,\"text\":\"Papers\"},\"id\":\"640fe422-4615-4b6e-929b-7bfe6f30cccb\",\"type\":\"Title\"},{\"attributes\":{\"plot\":{\"id\":\"72899037-6696-46c8-9852-e71f12ab823c\",\"subtype\":\"Figure\",\"type\":\"Plot\"},\"ticker\":{\"id\":\"424268a2-21df-4d27-b4ad-e9f5ffb6b8c4\",\"type\":\"BasicTicker\"}},\"id\":\"67914553-9ac2-4666-b714-7e07c41e20e4\",\"type\":\"Grid\"},{\"attributes\":{\"below\":[{\"id\":\"b849a831-034a-4c2f-b6c2-fff259bd3809\",\"type\":\"LinearAxis\"}],\"left\":[{\"id\":\"db7a6daa-cd21-40c6-8fb7-5e4405b4fafb\",\"type\":\"LinearAxis\"}],\"plot_height\":500,\"plot_width\":1000,\"renderers\":[{\"id\":\"b849a831-034a-4c2f-b6c2-fff259bd3809\",\"type\":\"LinearAxis\"},{\"id\":\"67914553-9ac2-4666-b714-7e07c41e20e4\",\"type\":\"Grid\"},{\"id\":\"db7a6daa-cd21-40c6-8fb7-5e4405b4fafb\",\"type\":\"LinearAxis\"},{\"id\":\"ab23b7e3-3a3b-47d0-885a-2d352a364c5d\",\"type\":\"Grid\"},{\"id\":\"42593167-e8f9-47e7-be00-9c415c6e1556\",\"type\":\"GlyphRenderer\"}],\"title\":{\"id\":\"640fe422-4615-4b6e-929b-7bfe6f30cccb\",\"type\":\"Title\"},\"toolbar\":{\"id\":\"f21c9762-060b-4389-9254-81be6e29f7c6\",\"type\":\"Toolbar\"},\"x_range\":{\"id\":\"d245368a-d9a3-41d7-80fe-ba7abecc27d5\",\"type\":\"DataRange1d\"},\"x_scale\":{\"id\":\"d0e5cda4-31be-4da4-9139-9d1d9e46975e\",\"type\":\"LinearScale\"},\"y_range\":{\"id\":\"9c5cc53c-9d19-4a56-85bc-5e2d75dbb57f\",\"type\":\"DataRange1d\"},\"y_scale\":{\"id\":\"f21ffd25-2155-457f-ad1e-bf1a11d29d51\",\"type\":\"LinearScale\"}},\"id\":\"72899037-6696-46c8-9852-e71f12ab823c\",\"subtype\":\"Figure\",\"type\":\"Plot\"},{\"attributes\":{\"source\":{\"id\":\"7ba5a1a2-2177-472a-8b93-a0d9cb2c3b2b\",\"type\":\"ColumnDataSource\"}},\"id\":\"181316d6-0d34-4d66-a8fb-086e09cc3fc7\",\"type\":\"CDSView\"},{\"attributes\":{\"formatter\":{\"id\":\"172f7bb8-4768-40b5-833c-34eb82ca74fd\",\"type\":\"BasicTickFormatter\"},\"plot\":{\"id\":\"72899037-6696-46c8-9852-e71f12ab823c\",\"subtype\":\"Figure\",\"type\":\"Plot\"},\"ticker\":{\"id\":\"424268a2-21df-4d27-b4ad-e9f5ffb6b8c4\",\"type\":\"BasicTicker\"}},\"id\":\"b849a831-034a-4c2f-b6c2-fff259bd3809\",\"type\":\"LinearAxis\"},{\"attributes\":{\"children\":[{\"id\":\"72899037-6696-46c8-9852-e71f12ab823c\",\"subtype\":\"Figure\",\"type\":\"Plot\"}]},\"id\":\"95c6dc03-747e-4bfc-82ab-a2c0da44f2eb\",\"type\":\"Column\"},{\"attributes\":{},\"id\":\"424268a2-21df-4d27-b4ad-e9f5ffb6b8c4\",\"type\":\"BasicTicker\"},{\"attributes\":{\"callback\":null,\"column_names\":[\"x\",\"y\",\"colors\",\"title\",\"alpha\",\"size\"],\"data\":{\"alpha\":[0.9,0.9,0.9,0.9,0.9,0.9,0.9,0.9,0.9,0.9,0.9,0.9,0.9,0.9,0.9,0.9,0.9,0.9,0.9,0.9,0.9,0.9,0.9,0.9,0.9,0.9,0.9,0.9,0.9,0.9,0.9,0.9,0.9,0.9,0.9,0.9,0.9,0.9,0.9,0.9,0.9,0.9,0.9,0.9,0.9,0.9,0.9,0.9,0.9,0.9,0.9,0.9,0.9,0.9,0.9,0.9,0.9,0.9,0.9,0.9,0.9,0.9,0.9,0.9,0.9,0.9,0.9,0.9,0.9,0.9,0.9,0.9,0.9,0.9,0.9,0.9,0.9,0.9,0.9,0.9,0.9,0.9,0.9,0.9,0.9,0.9,0.9,0.9,0.9,0.9,0.9,0.9,0.9,0.9,0.9,0.9,0.9,0.9,0.9,0.9,0.9,0.9,0.9,0.9,0.9,0.9,0.9,0.9,0.9,0.9,0.9,0.9,0.9,0.9,0.9,0.9,0.9,0.9,0.9,0.9,0.9,0.9,0.9,0.9,0.9,0.9,0.9,0.9,0.9,0.9,0.9,0.9,0.9,0.9,0.9,0.9,0.9,0.9,0.9,0.9,0.9,0.9,0.9,0.9,0.9,0.9,0.9,0.9,0.9,0.9,0.9,0.9,0.9,0.9,0.9,0.9,0.9,0.9,0.9,0.9,0.9,0.9,0.9,0.9,0.9,0.9,0.9,0.9,0.9,0.9,0.9,0.9,0.9,0.9,0.9,0.9,0.9,0.9,0.9,0.9,0.9,0.9,0.9,0.9,0.9,0.9,0.9,0.9,0.9,0.9,0.9,0.9,0.9,0.9,0.9,0.9,0.9,0.9,0.9,0.9,0.9,0.9,0.9,0.9,0.9,0.9,0.9,0.9,0.9,0.9,0.9,0.9,0.9,0.9,0.9,0.9,0.9,0.9,0.9,0.9,0.9,0.9,0.9,0.9,0.9,0.9,0.9,0.9,0.9,0.9,0.9,0.9,0.9,0.9,0.9,0.9,0.9,0.9,0.9,0.9,0.9,0.9,0.9,0.9,0.9,0.9,0.9,0.9,0.9],\"colors\":[\"#ff7f00\",\"#f781bf\",\"#e41a1c\",\"#4daf4a\",\"#984ea3\",\"#ffff33\",\"#ff7f00\",\"#ff7f00\",\"#4daf4a\",\"#4daf4a\",\"#a65628\",\"#984ea3\",\"#4daf4a\",\"#e41a1c\",\"#e41a1c\",\"#a65628\",\"#e41a1c\",\"#ffff33\",\"#e41a1c\",\"#ffff33\",\"#ffff33\",\"#ff7f00\",\"#ff7f00\",\"#984ea3\",\"#984ea3\",\"#ff7f00\",\"#a65628\",\"#a65628\",\"#e41a1c\",\"#ff7f00\",\"#f781bf\",\"#984ea3\",\"#ff7f00\",\"#4daf4a\",\"#e41a1c\",\"#ffff33\",\"#f781bf\",\"#f781bf\",\"#a65628\",\"#ff7f00\",\"#ff7f00\",\"#ffff33\",\"#e41a1c\",\"#377eb8\",\"#e41a1c\",\"#377eb8\",\"#ff7f00\",\"#ff7f00\",\"#e41a1c\",\"#377eb8\",\"#ff7f00\",\"#ffff33\",\"#ff7f00\",\"#e41a1c\",\"#e41a1c\",\"#ff7f00\",\"#ff7f00\",\"#4daf4a\",\"#377eb8\",\"#a65628\",\"#4daf4a\",\"#ffff33\",\"#f781bf\",\"#4daf4a\",\"#f781bf\",\"#ff7f00\",\"#ff7f00\",\"#ff7f00\",\"#f781bf\",\"#4daf4a\",\"#ffff33\",\"#4daf4a\",\"#4daf4a\",\"#ff7f00\",\"#e41a1c\",\"#f781bf\",\"#e41a1c\",\"#ff7f00\",\"#ff7f00\",\"#f781bf\",\"#f781bf\",\"#f781bf\",\"#377eb8\",\"#e41a1c\",\"#ffff33\",\"#4daf4a\",\"#ff7f00\",\"#e41a1c\",\"#e41a1c\",\"#a65628\",\"#ff7f00\",\"#f781bf\",\"#f781bf\",\"#4daf4a\",\"#a65628\",\"#377eb8\",\"#f781bf\",\"#984ea3\",\"#ffff33\",\"#e41a1c\",\"#984ea3\",\"#f781bf\",\"#ff7f00\",\"#e41a1c\",\"#a65628\",\"#ffff33\",\"#f781bf\",\"#984ea3\",\"#984ea3\",\"#f781bf\",\"#f781bf\",\"#ff7f00\",\"#f781bf\",\"#a65628\",\"#ffff33\",\"#4daf4a\",\"#ffff33\",\"#4daf4a\",\"#ff7f00\",\"#f781bf\",\"#4daf4a\",\"#f781bf\",\"#4daf4a\",\"#f781bf\",\"#a65628\",\"#4daf4a\",\"#4daf4a\",\"#e41a1c\",\"#377eb8\",\"#ffff33\",\"#ff7f00\",\"#ff7f00\",\"#984ea3\",\"#a65628\",\"#4daf4a\",\"#e41a1c\",\"#377eb8\",\"#ff7f00\",\"#4daf4a\",\"#ffff33\",\"#ffff33\",\"#a65628\",\"#a65628\",\"#984ea3\",\"#377eb8\",\"#4daf4a\",\"#e41a1c\",\"#a65628\",\"#ff7f00\",\"#377eb8\",\"#4daf4a\",\"#ffff33\",\"#ff7f00\",\"#ff7f00\",\"#f781bf\",\"#e41a1c\",\"#f781bf\",\"#f781bf\",\"#984ea3\",\"#ff7f00\",\"#e41a1c\",\"#377eb8\",\"#e41a1c\",\"#377eb8\",\"#984ea3\",\"#984ea3\",\"#a65628\",\"#ffff33\",\"#4daf4a\",\"#e41a1c\",\"#984ea3\",\"#f781bf\",\"#f781bf\",\"#4daf4a\",\"#984ea3\",\"#984ea3\",\"#e41a1c\",\"#ff7f00\",\"#377eb8\",\"#4daf4a\",\"#4daf4a\",\"#ffff33\",\"#ff7f00\",\"#ff7f00\",\"#f781bf\",\"#f781bf\",\"#ff7f00\",\"#ff7f00\",\"#ffff33\",\"#a65628\",\"#984ea3\",\"#a65628\",\"#377eb8\",\"#a65628\",\"#ff7f00\",\"#4daf4a\",\"#ffff33\",\"#e41a1c\",\"#e41a1c\",\"#ff7f00\",\"#ff7f00\",\"#ff7f00\",\"#f781bf\",\"#e41a1c\",\"#984ea3\",\"#e41a1c\",\"#a65628\",\"#f781bf\",\"#f781bf\",\"#e41a1c\",\"#984ea3\",\"#a65628\",\"#377eb8\",\"#e41a1c\",\"#e41a1c\",\"#e41a1c\",\"#ffff33\",\"#4daf4a\",\"#ff7f00\",\"#ff7f00\",\"#ffff33\",\"#ff7f00\",\"#f781bf\",\"#e41a1c\",\"#e41a1c\",\"#ff7f00\",\"#a65628\",\"#984ea3\",\"#e41a1c\",\"#4daf4a\",\"#e41a1c\",\"#4daf4a\",\"#ff7f00\",\"#ff7f00\",\"#377eb8\",\"#f781bf\",\"#e41a1c\",\"#e41a1c\",\"#e41a1c\",\"#377eb8\",\"#984ea3\",\"#ff7f00\",\"#e41a1c\",\"#ff7f00\",\"#a65628\",\"#f781bf\",\"#a65628\",\"#e41a1c\",\"#4daf4a\"],\"size\":[7,7,7,7,7,7,7,7,7,7,7,7,7,7,7,7,7,7,7,7,7,7,7,7,7,7,7,7,7,7,7,7,7,7,7,7,7,7,7,7,7,7,7,7,7,7,7,7,7,7,7,7,7,7,7,7,7,7,7,7,7,7,7,7,7,7,7,7,7,7,7,7,7,7,7,7,7,7,7,7,7,7,7,7,7,7,7,7,7,7,7,7,7,7,7,7,7,7,7,7,7,7,7,7,7,7,7,7,7,7,7,7,7,7,7,7,7,7,7,7,7,7,7,7,7,7,7,7,7,7,7,7,7,7,7,7,7,7,7,7,7,7,7,7,7,7,7,7,7,7,7,7,7,7,7,7,7,7,7,7,7,7,7,7,7,7,7,7,7,7,7,7,7,7,7,7,7,7,7,7,7,7,7,7,7,7,7,7,7,7,7,7,7,7,7,7,7,7,7,7,7,7,7,7,7,7,7,7,7,7,7,7,7,7,7,7,7,7,7,7,7,7,7,7,7,7,7,7,7,7,7,7,7,7,7,7,7,7,7,7,7,7,7,7,7,7,7,7,7],\"title\":[\"The Emoji Movie\\n\",\"Nothing to Lose\\n\",\"Battlefield Earth\\n\",\"Dragonball: Evolution\\n\",\"Jaws: The Revenge\\n\",\"The Human Centipede III (Final Sequence)\\n\",\"Crossroads\\n\",\"Left Behind\\n\",\"Spice World\\n\",\"Troll 2\\n\",\"Catwoman\\n\",\"Jack and Jill\\n\",\"Code Name: K.O.Z.\\n\",\"Epic Movie\\n\",\"Disaster Movie\\n\",\"Bratz\\n\",\"Son of the Mask\\n\",\"Meet the Spartans\\n\",\"Captain America\\n\",\"The Hottie & the Nottie\\n\",\"Barb Wire\\n\",\"Gigli\\n\",\"Date Movie\\n\",\"House of the Dead\\n\",\"Saving Christmas\\n\",\"BloodRayne\\n\",\"Texas Chainsaw Massacre: The Next Generation\\n\",\"Glitter\\n\",\"The Starving Games\\n\",\"Alone in the Dark\\n\",\"Far Cry\\n\",\"Birdemic: Shock and Terror\\n\",\"#Horror\\n\",\"The Master of Disguise\\n\",\"Manos: The Hands of Fate\\n\",\"Ed\\n\",\"From Justin to Kelly\\n\",\"Going Overboard\\n\",\"Kazaam\\n\",\"Hercules in New York\\n\",\"Foodfight!\\n\",\"Attack of the Jurassic Shark\\n\",\"Baby Geniuses\\n\",\"Bolero\\n\",\"Superbabies: Baby Geniuses 2\\n\",\"The Garbage Pail Kids Movie\\n\",\"Daddy Day Camp\\n\",\"The NeverEnding Story III\\n\",\"Rollerball\\n\",\"Pledge This!\\n\",\"American Poltergeist\\n\",\"Dirty Movie\\n\",\"The Crow: Wicked Prayer\\n\",\"Teen Wolf Too\\n\",\"Devil Fish\\n\",\"Another Nine & a Half Weeks\\n\",\"Police Academy: Mission to Moscow\\n\",\"Cool as Ice\\n\",\"Steel\\n\",\"Daniel the Wizard\\n\",\"BloodRayne: The Third Reich\\n\",\"Space Mutiny\\n\",\"Bucky Larson: Born to Be a Star\\n\",\"Hellraiser: Revelations\\n\",\"Blubberella\\n\",\"Breaking Wind\\n\",\"Doogal\\n\",\"It's Pat: The Movie\\n\",\"Andron\\n\",\"Titanic: The Legend Goes On...\\n\",\"Celebrity Sex Tape\\n\",\"3 Ninjas: High Noon at Mega Mountain\\n\",\"Jism 2\\n\",\"Feardotcom\\n\",\"Enes Batur Hayal mi Ger\\u00c3\\u00a7ek mi?\\n\",\"Birdemic 2: The Resurrection\\n\",\"Who's Your Caddy?\\n\",\"Fred 3: Camp Fred\\n\",\"Hooking Up\\n\",\"InAPPropriate Comedy\\n\",\"Sand Sharks\\n\",\"The King of Fighters\\n\",\"United Passions\\n\",\"Tekken: Kazuya's Revenge\\n\",\"Barney's Great Adventure\\n\",\"Theodore Rex\\n\",\"Dracula 3000\\n\",\"Muck\\n\",\"Laserblast\\n\",\"Larry the Cable Guy: Health Inspector\\n\",\"In the Name of the King: Two Worlds\\n\",\"Leonard Part 6\\n\",\"Sleeping Beauty\\n\",\"Kyaa Kool Hain Hum 3\\n\",\"Zombie Nation\\n\",\"Potato Salad\\n\",\"Girl in Gold Boots\\n\",\"Avalanche Sharks\\n\",\"Chairman of the Board\\n\",\"Alien from L.A.\\n\",\"Smolensk\\n\",\"Lawnmower Man 2: Beyond Cyberspace\\n\",\"Hole in One\\n\",\"Gunday\\n\",\"Alien Uprising\\n\",\"Plump Fiction\\n\",\"The Legend of the Titanic\\n\",\"Shanghai Surprise\\n\",\"Survival Island\\n\",\"The Touch of Satan\\n\",\"The Giant Spider Invasion\\n\",\"30 Nights of Paranormal Activity with the Devil Inside the Girl with the Dragon Tattoo\\n\",\"Hobgoblins\\n\",\"Apartment 1303 3D\\n\",\"Surf School\\n\",\"Independents' Day\\n\",\"Crossover\\n\",\"Dream.net\\n\",\"Seed\\n\",\"Mega Shark vs. Mecha Shark\\n\",\"Turks in Space\\n\",\"Super Shark\\n\",\"Phat Girlz\\n\",\"Simon Sez\\n\",\"Eegah\\n\",\"Ghosts Can't Do It\\n\",\"Ringmaster\\n\",\"100 Degrees Below Zero\\n\",\"The Incredibly Strange Creatures Who Stopped Living and Became Mixed-Up Zombies!!?\\n\",\"Santa with Muscles\\n\",\"Witless Protection\\n\",\"Robot Monster\\n\",\"R.O.T.O.R.\\n\",\"Keith Lemon: The Film\\n\",\"The Oogieloves in the Big Balloon Adventure\\n\",\"Tees Maar Khan\\n\",\"Fat Slags\\n\",\"The Pumaman\\n\",\"The Blade Master\\n\",\"Blonde and Blonder\\n\",\"Ben & Arthur\\n\",\"Orgy of the Dead\\n\",\"The Marsupials: The Howling III\\n\",\"Battle for Skyark\\n\",\"Santa Claus Conquers the Martians\\n\",\"Marci X\\n\",\"After Last Season\\n\",\"Mitchell\\n\",\"Zombie Nightmare\\n\",\"The Wild World of Batwoman\\n\",\"Popstar\\n\",\"Night of the Living Dead 3D\\n\",\"Catalina Caper\\n\",\"In the Mix\\n\",\"Warrior of the Lost World\\n\",\"The Bat People\\n\",\"Feel the Noise\\n\",\"The Honeymooners\\n\",\"National Lampoon's Gold Diggers\\n\",\"The Gaul\\n\",\"Zaat\\n\",\"Jack the Giant Killer\\n\",\"Ram Gopal Varma's Indian Flames\\n\",\"Santa Claus\\n\",\"The Cloth\\n\",\"Zombie Lake\\n\",\"Deathstalker and the Warriors from Hell\\n\",\"Not Another Not Another Movie\\n\",\"American Ninja 5\\n\",\"Boggy Creek II: And the Legend Continues\\n\",\"Body in the Web\\n\",\"Car 54, Where Are You?\\n\",\"The Aztec Mummy Against the Humanoid Robot\\n\",\"A Fox's Tale\\n\",\"Time Chasers\\n\",\"Monster a-Go Go\\n\",\"Hercules Against the Moon Men\\n\",\"The Legend of Drona\\n\",\"Apocalypse Pompeii\\n\",\"The Smokers\\n\",\"Extra Terrestrial Visitors\\n\",\"Himmatwala\\n\",\"Humshakals\\n\",\"Hansel & Gretel: Warriors of Witchcraft\\n\",\"Never Surrender\\n\",\"Sura\\n\",\"Mastizaade\\n\",\"Final Justice\\n\",\"Apocalypse Z\\n\",\"Death Tunnel\\n\",\"Track of the Moon Beast\\n\",\"OHA Diyorum\\n\",\"The Ten Commandments\\n\",\"I Accuse My Parents\\n\",\"MSG: The Messenger\\n\",\"Die Hard Dracula\\n\",\"500 MPH Storm\\n\",\"Soultaker\\n\",\"Brothers in Arms\\n\",\"Oasis of the Zombies\\n\",\"The Underground Comedy Movie\\n\",\"Yaariyan\\n\",\"Keloglan vs. the Black Prince\\n\",\"Love Story 2050\\n\",\"40 Days and Nights\\n\",\"Sax Rohmer's The Castle of Fu Manchu\\n\",\"Frat Party\\n\",\"Night Train to Mundo Fine\\n\",\"The Beast of Yucca Flats\\n\",\"Rascals\\n\",\"The Horror of Party Beach\\n\",\"Wizard School\\n\",\"Yes Sir\\n\",\"Age of Dinosaurs\\n\",\"Jaani Dushman: Ek Anokhi Kahani\\n\",\"Addiction - When Nothing Is Enough\\n\",\"Invasion of the Neptune Men\\n\",\"Prince of Space\\n\",\"King of the Lost World\\n\",\"Seven Mummies\\n\",\"The Class\\n\",\".com for Murder\\n\",\"Monstrosity\\n\",\"Blackwoods\\n\",\"The Starfighters\\n\",\"Shark in Venice\\n\",\"Five the Hard Way\\n\",\"Kutsal Damacana 2: Itmen\\n\",\"Five Across the Eyes\\n\",\"The Skydivers\\n\",\"Joker\\n\",\"Anne B. Real\\n\",\"A Story About Love\\n\",\"Time You Change\\n\",\"The Class of Chaos 3,5\\n\",\"Too Beautiful\\n\",\"Dark Harvest II: The Maize\\n\",\"Treasure Raiders\\n\",\"The Abortion\\n\",\"Danes Without a Clue\\n\",\"The Chaos Class in the Military\\n\",\"Switch\\n\",\"The Class of Chaos Goes Abroad\\n\",\"Dark Spells\\n\",\"Maskeli Besler: Kibris\\n\",\"Beremennyy\\n\",\"Turkish Tales\\n\",\"Deportees 2\\n\",\"Anus Magillicutty\"],\"x\":{\"__ndarray__\":\"t2uEwFLCjUGlT5M/6v+WwfswnUBBvwVBuYwowMYdScCFZJbBhVmWwZgTIsGPOZ5A7hGQwdVYqj+pda0/xGkiwbnnwD/6+wdB6ta+Px9fBEGzOQVB5JJZwC7Wc8AMMZxAn1yeQBSqasB4wyHBMaMhwUM0Yj9hrHbAlQCIQdSrnUAulIPAXzWWwaDMnD9N9wdBMtmVQW6clEFslCHB2RyDwHDtZMAtvwRBVgCjP9+kOcDdHpQ/lzU3wE48esCef2jAGQGaP2H0OMCbuGXAZfUHQdaFccD7w9E/TDRoP6TLXcCUIG7AHfqOwQaeOcBWVRvBSvuRwR2nBUEj0ZVBP8OUwe/MlUHDHDvAkRiEwHJWZsBgTJRBl/KTwdtsA0ECK5PB2nyVwSwobMAN+OU/zcGNQYp4zj+9LDvAwMliwIHYkEGzDZNBdyCUQbagOcD0Xs4//qIAQXeilsE2i4LAHIbCP6LGuD9BoyHBmfxowBZQlUHFzZFBotKUwVUgHsGFbznAqQGUQXU5nkAIeQdByX6uP/BFnkD2dpFBQv9mwOP+lD9L8yDBblACQWN5kEHFRZ5A+zuZQBOclEHLuZFBYMAawIOMkkE45SHB/L4CQTcZksFVX/xAZrmSwd+7gsDsm5JBOw6RwaVqlEHUYpHB9jGPQUuEH8G7LpfBwfCTwY37xj8bBkDAYQEDQeuDrL+FCF/AUB+ZQMezH8GqLJfBZlqDP9qcOcAGs4DAAe+SwV0ACEHYnQdBCPofwbuQHsFzmZVA1pc5wM4ylsFW6NA/08wfwR4GR8CHmjnAlVKSwVcFCEG3oA3AeStLwK0thUGOts4/jFWFQfHnlEFhDZlAszp3wOS7kj/foDnAnhfGP36fOcAhfpxAAm+cQC83F8FFXwRB3HWSwZHF7j9LV5xAS5uRQb0WiEExe5bB/IicQKpUnkC64tE/LBaBwIBLOsAfF5fBaJmTwSUKBUEGqkDAsZVUwJvak0FQzI5BV6hDwKQBaMBQmQRBUwEiwXesnECkVhzBmac5wIlgIMFAU2vALayMwabdB0G4ONE/qT3QP/zgdsBoWz3A+xRHwJUZi0GWQKM/ouedQBETxj+hzB/B8TqUQYa6j0FlC9E/0QadQODKFcHmqjnAkSjzP2KxhT/G5Z8/A/cHQWoJlMFrCjLAFyqBwH7nA0Gqy13AWpeVQfhryz8Ayr8/ly8nwJhYH8EoH5lACGQKQOswl8ERlApASPGRwRB9XMAsCTrA0HQ5wPoekkEPUcc/zCbIP4q0zj+pajnA4TiZQEDjsL+iNNU/TiNnwCHTHcHxCohBLHUgwUPryj8sqZLB\",\"dtype\":\"float32\",\"shape\":[249]},\"y\":{\"__ndarray__\":\"DxtzQW8U7r/ONWLBIoAowcac3T+xAipBNa5DQeMwV0EKdS7BvXAuwe2tjUDF0uY/BkoiwfdcZ8FVL1zB0HSPQADtZcGU5ydBHuhZwUB5KUHH6ClBiXhuQR7vakH8xuE/daDoP7fqc0EXw4xA3I6MQK90Q8HzgnZBrmgOwMAD8j+G8HBBgHEuwaJ4ZcHMEyhB99EBwKqf2r+0aYxA4VRwQXp+ZkHBtylBwxBmweWVYz4nQ2HBmQwcPpOba0HcwXJBtx9lwXdUTj5jyG5BbgwnQTXEdUE4zUDBaIVDwSejYkF+GnVBPVQYwcSJYz7Ml45AAjYgwS/7KUFs6wHAofMuwbTWAcCZekdBuBx0Qat4Z0Fp7de/pq8uwU7zJ0Gu3y3Bm6olwZsnakHRLjnBRvjtvwnoTMHIbkdBWRpHQaT34b/jDQ/AMUvXv/GOYz5o4kzBCQ8iQbBfJ8HubXVB0tRlwRW7W8HjjoxA+1lrQS/N5L/+wdi/oT4lwQQxjECqDWg+88vWv6/R5j8EJyZBQdhcwcJy7T+xsgrALnltQfK0YMH1rJRA24kjQd4U6r8PdO0/jJD8P46c2r8YHAzADTk7QaBaDsAc85JA4NAiQSO6KcHlCR5BF4AswQWnb0FdW9a/y/sjwRKEDcAgpSTBxn7xv9MelUBvzynBNAohwdmCU8GJm5o+YmskQR6sNkE0EEhB/jH0P1Mli0B1vynB1Ag1wWCAYz4x8m1B7UMtwRBMJ0FJViZB5huVQLkujEBQeRlAKRJjPjGKJcG2QEjB6x2VQLG1VUGc/GI+LdYmwXbSJ0GK8EhBIJZYQfoA8L+wW1/B/oevv5jICsC6vPU/CUlrQfV4YcEf+2I+ElRlwZuOYz7gcuA/FbvgP+1akEBveSlBLNolwQ0WMcHt4+A/ZfwKwFizz78zBCfBm1LgP+of6D8pDWHBJKN2QXsxYz7hdivBo2QuwWDZKUFKYU5BSbRdQTwqD8A7gPC/Y5RSQVDha0EcoClBfWKNQCe/3z9Kp45AcxRkPkgLlUBXNGpB0zAkwcTIJkE7emDBOOhJwQGWdkEDlklB+7NVQXUY6b+fT2bBOkTwPyxeVMHvHZVANDMOwLSxzL9EpWLBXEbeP2EajUCIkmM+v482wWFkNcE3Al7BfBwnQQ+lLsEYBUBBq8B2QXvDJUEuo2JBTgLuv+PNY8Hy7ljBebRIQeISlUBeMPQ/YqQ5wZmmKsEVOUnBWQglwREjPUEqsTpBP85pPkzTDMDAr1HBsflBwdVaX8EYBGo+Yyf6P/bgNkFX1T7BcAo5QShmjEBNXuS/lAGVQGl4UMFzTyzB\",\"dtype\":\"float32\",\"shape\":[249]}}},\"id\":\"7ba5a1a2-2177-472a-8b93-a0d9cb2c3b2b\",\"type\":\"ColumnDataSource\"},{\"attributes\":{\"formatter\":{\"id\":\"f8294544-29d9-4e57-8692-fb9803001cd9\",\"type\":\"BasicTickFormatter\"},\"plot\":{\"id\":\"72899037-6696-46c8-9852-e71f12ab823c\",\"subtype\":\"Figure\",\"type\":\"Plot\"},\"ticker\":{\"id\":\"08424283-140f-4b1e-bce2-a8881737c319\",\"type\":\"BasicTicker\"}},\"id\":\"db7a6daa-cd21-40c6-8fb7-5e4405b4fafb\",\"type\":\"LinearAxis\"},{\"attributes\":{\"active_drag\":\"auto\",\"active_inspect\":\"auto\",\"active_scroll\":\"auto\",\"active_tap\":\"auto\",\"tools\":[{\"id\":\"035f70cd-a0af-45bf-a31d-986ccb6b9878\",\"type\":\"HoverTool\"},{\"id\":\"fdc9429c-f663-4ab0-9cfb-0866e90064fc\",\"type\":\"PanTool\"},{\"id\":\"16122515-41db-4c94-83aa-e82235dc3781\",\"type\":\"WheelZoomTool\"},{\"id\":\"aface3a4-45f6-4524-a428-f7677c3d6632\",\"type\":\"ResetTool\"}]},\"id\":\"f21c9762-060b-4389-9254-81be6e29f7c6\",\"type\":\"Toolbar\"},{\"attributes\":{},\"id\":\"fdc9429c-f663-4ab0-9cfb-0866e90064fc\",\"type\":\"PanTool\"},{\"attributes\":{\"callback\":null},\"id\":\"d245368a-d9a3-41d7-80fe-ba7abecc27d5\",\"type\":\"DataRange1d\"},{\"attributes\":{},\"id\":\"172f7bb8-4768-40b5-833c-34eb82ca74fd\",\"type\":\"BasicTickFormatter\"},{\"attributes\":{\"dimension\":1,\"plot\":{\"id\":\"72899037-6696-46c8-9852-e71f12ab823c\",\"subtype\":\"Figure\",\"type\":\"Plot\"},\"ticker\":{\"id\":\"08424283-140f-4b1e-bce2-a8881737c319\",\"type\":\"BasicTicker\"}},\"id\":\"ab23b7e3-3a3b-47d0-885a-2d352a364c5d\",\"type\":\"Grid\"},{\"attributes\":{},\"id\":\"08424283-140f-4b1e-bce2-a8881737c319\",\"type\":\"BasicTicker\"},{\"attributes\":{},\"id\":\"d0e5cda4-31be-4da4-9139-9d1d9e46975e\",\"type\":\"LinearScale\"},{\"attributes\":{},\"id\":\"16122515-41db-4c94-83aa-e82235dc3781\",\"type\":\"WheelZoomTool\"},{\"attributes\":{\"callback\":null},\"id\":\"9c5cc53c-9d19-4a56-85bc-5e2d75dbb57f\",\"type\":\"DataRange1d\"},{\"attributes\":{},\"id\":\"aface3a4-45f6-4524-a428-f7677c3d6632\",\"type\":\"ResetTool\"},{\"attributes\":{\"callback\":null,\"names\":[\"df\"],\"tooltips\":\"\\n    <div style=\\\"margin: 10\\\">\\n        <div style=\\\"margin: 0 auto; width:300px;\\\">\\n            <span style=\\\"font-size: 12px; font-weight: bold;\\\">Title:</span>\\n            <span style=\\\"font-size: 12px\\\">@title</span>\\n\\n        </div>\\n    </div>\\n    \"},\"id\":\"035f70cd-a0af-45bf-a31d-986ccb6b9878\",\"type\":\"HoverTool\"},{\"attributes\":{},\"id\":\"f21ffd25-2155-457f-ad1e-bf1a11d29d51\",\"type\":\"LinearScale\"},{\"attributes\":{\"data_source\":{\"id\":\"7ba5a1a2-2177-472a-8b93-a0d9cb2c3b2b\",\"type\":\"ColumnDataSource\"},\"glyph\":{\"id\":\"3fb47e29-2261-404d-aa53-875400aadb08\",\"type\":\"Circle\"},\"hover_glyph\":null,\"muted_glyph\":null,\"name\":\"df\",\"nonselection_glyph\":{\"id\":\"0a49e2fc-8a8c-4ad4-bee7-4e8106d1ce4a\",\"type\":\"Circle\"},\"selection_glyph\":null,\"view\":{\"id\":\"181316d6-0d34-4d66-a8fb-086e09cc3fc7\",\"type\":\"CDSView\"}},\"id\":\"42593167-e8f9-47e7-be00-9c415c6e1556\",\"type\":\"GlyphRenderer\"},{\"attributes\":{\"fill_alpha\":{\"value\":0.1},\"fill_color\":{\"value\":\"#1f77b4\"},\"line_alpha\":{\"value\":0.1},\"line_color\":{\"value\":\"#1f77b4\"},\"line_width\":{\"value\":0.01},\"size\":{\"field\":\"size\",\"units\":\"screen\"},\"x\":{\"field\":\"x\"},\"y\":{\"field\":\"y\"}},\"id\":\"0a49e2fc-8a8c-4ad4-bee7-4e8106d1ce4a\",\"type\":\"Circle\"}],\"root_ids\":[\"95c6dc03-747e-4bfc-82ab-a2c0da44f2eb\"]},\"title\":\"Bokeh Application\",\"version\":\"0.12.7\"}};\n",
       "            var render_items = [{\"docid\":\"c4dd0ba0-7a17-4be0-9346-cd4259cc89d6\",\"elementid\":\"54c9e602-101a-4f33-aa40-ca4c2c446274\",\"modelid\":\"95c6dc03-747e-4bfc-82ab-a2c0da44f2eb\"}];\n",
       "            \n",
       "            Bokeh.embed.embed_items(docs_json, render_items);\n",
       "          };\n",
       "          if (document.readyState != \"loading\") fn();\n",
       "          else document.addEventListener(\"DOMContentLoaded\", fn);\n",
       "        })();\n",
       "      },\n",
       "      function(Bokeh) {\n",
       "      }\n",
       "    ];\n",
       "  \n",
       "    function run_inline_js() {\n",
       "      \n",
       "      if ((root.Bokeh !== undefined) || (force === true)) {\n",
       "        for (var i = 0; i < inline_js.length; i++) {\n",
       "          inline_js[i].call(root, root.Bokeh);\n",
       "        }if (force === true) {\n",
       "          display_loaded();\n",
       "        }} else if (Date.now() < root._bokeh_timeout) {\n",
       "        setTimeout(run_inline_js, 100);\n",
       "      } else if (!root._bokeh_failed_load) {\n",
       "        console.log(\"Bokeh: BokehJS failed to load within specified timeout.\");\n",
       "        root._bokeh_failed_load = true;\n",
       "      } else if (force !== true) {\n",
       "        var cell = $(document.getElementById(\"54c9e602-101a-4f33-aa40-ca4c2c446274\")).parents('.cell').data().cell;\n",
       "        cell.output_area.append_execute_result(NB_LOAD_WARNING)\n",
       "      }\n",
       "  \n",
       "    }\n",
       "  \n",
       "    if (root._bokeh_is_loading === 0) {\n",
       "      console.log(\"Bokeh: BokehJS loaded, going straight to plotting\");\n",
       "      run_inline_js();\n",
       "    } else {\n",
       "      load_libs(js_urls, function() {\n",
       "        console.log(\"Bokeh: BokehJS plotting callback run at\", now());\n",
       "        run_inline_js();\n",
       "      });\n",
       "    }\n",
       "  }(window));\n",
       "</script>"
      ]
     },
     "metadata": {},
     "output_type": "display_data"
    }
   ],
   "source": [
    "show(layout)\n"
   ]
  },
  {
   "cell_type": "code",
   "execution_count": null,
   "metadata": {
    "collapsed": true
   },
   "outputs": [],
   "source": [
    "#https://www.kaggle.com/yohanb/lda-visualized-using-t-sne-and-bokeh"
   ]
  }
 ],
 "metadata": {
  "kernelspec": {
   "display_name": "Python 3",
   "language": "python",
   "name": "python3"
  },
  "language_info": {
   "codemirror_mode": {
    "name": "ipython",
    "version": 3
   },
   "file_extension": ".py",
   "mimetype": "text/x-python",
   "name": "python",
   "nbconvert_exporter": "python",
   "pygments_lexer": "ipython3",
   "version": "3.6.2"
  }
 },
 "nbformat": 4,
 "nbformat_minor": 2
}
